{
 "cells": [
  {
   "cell_type": "markdown",
   "metadata": {},
   "source": [
    "1. Menulis deskripsi statistika (Descriptive Statistics) dari semua kolom pada data. Data yang bersifat numerik dapat diberikan nilai mean, median, modus, standar deviasi, variansi, range, nilai minimum, maksimum, kuartil, IQR, skewness dan kurtosis. Data dalam bentuk string dapat dicari unique values, dan proporsi nya. \n",
    "\n",
    "Poin yang perlu diperhatikan: \n",
    "mean, median, modus, standar deviasi, variansi, range, nilai minimum, maksimum, kuartil, IQR, skewness, dan kurtosis. "
   ]
  },
  {
   "cell_type": "code",
   "execution_count": null,
   "metadata": {},
   "outputs": [],
   "source": [
    "import pandas as pd\n",
    "\n",
    "# Read the data from weather.csv\n",
    "data = pd.read_csv('weather.csv')\n",
    "\n",
    "# Display the original data\n",
    "print(\"Original Data:\")\n",
    "print(data.head())  # Display the first few rows of the original data\n",
    "\n",
    "# Drop rows with any NaN values\n",
    "data_cleaned = data.dropna()\n",
    "\n",
    "# Calculate descriptive statistics for all columns on cleaned data\n",
    "statistics = data_cleaned.describe(include='all')\n",
    "\n",
    "# Print the statistics\n",
    "print(\"\\nDescriptive Statistics (Cleaned Data):\")\n",
    "print(statistics)\n"
   ]
  },
  {
   "cell_type": "markdown",
   "metadata": {},
   "source": [
    "trivial: apa itu data outlier? \n",
    "\n",
    "Data outlier adalah nilai yang secara signifikan berbeda dari sebagian besar data dalam kumpulan data. Outlier dapat muncul karena berbagai alasan, termasuk kesalahan pengukuran, ketidakteraturan alamiah dalam fenomena yang diamati, atau kejadian langka yang tidak umum. Keberadaan outlier dapat mempengaruhi analisis statistik dan mengarah pada kesimpulan yang salah jika tidak diidentifikasi dan ditangani dengan benar. Cara mengetahui outlier\n",
    "\n",
    "menggunakan interquartile range (IQR). \n",
    "1. Hitung kuartil pertama (Q1) dan kuartil ketiga (Q3) dari data. \n",
    "2. Hitung interquartile range (IQR) dengan persamaan : IQR = Q3 - Q1 \n",
    "3. Tentukan batas atas dan batas bawah\n",
    "    - Batas bawah: Lower Bound: Q1 - 1.5 x IQR \n",
    "    - Batas atas: Upper Bound: Q3 + 1.5 x IQR\n",
    "\n",
    "Apakah pada data tersebut terdapat outlier? Jika ya, dapatkah anda menanganinya? Jelaskan apa yang umumnya dilakukan untuk menangani outlier.\n",
    "### ANSWER: \n",
    "ya, data ini memiliki outlier jika dicari menggunakan persamaan di atas dan dikonversi menjadi python untuk mengidentifikasi data outlier pada file weather.csv \n",
    "Untuk menangani outlier bisa dilakukan \n",
    "1. Menghilangkan data terkait, tetapi hal ini dapat mengakibatkan berkurangnya sample size dari data. \n",
    "2. Menimpa (me-replace) data terkait dengan data yang lebih masuk akal seperti mean, median, atau modus. \n",
    "3. Alternatif lain bisa dilakukan perhitungan matematika pada data seperti, logaritmik, akar kuadrat, atau standardisasi.\n",
    "4. Biarkan data tersebut dengan menyesuaikan metode atau model analisis untuk mengolah dan menghitungnya.\n"
   ]
  },
  {
   "cell_type": "code",
   "execution_count": null,
   "metadata": {},
   "outputs": [],
   "source": [
    "import pandas as pd\n",
    "\n",
    "data = pd.read_csv('weather.csv')\n",
    "\n",
    "data_cleaned = data.dropna()\n",
    "statistics = data_cleaned.describe(include='all')\n",
    "\n",
    "numeric_data = data_cleaned.select_dtypes(include=['number'])\n",
    "\n",
    "# Align data_cleaned and numeric_data\n",
    "data_cleaned, numeric_data = data_cleaned.align(numeric_data, axis=1)\n",
    "\n",
    "Q1 = numeric_data.quantile(0.25)\n",
    "Q3 = numeric_data.quantile(0.75)\n",
    "IQR = Q3 - Q1\n",
    "\n",
    "# Identify outliers\n",
    "outliers = ((numeric_data < (Q1 - 1.5 * IQR)) | (numeric_data > (Q3 + 1.5 * IQR))).any(axis=1)\n",
    "\n",
    "# Display the outliers\n",
    "print(\"\\nOutlier Data:\")\n",
    "print(data_cleaned[outliers])\n"
   ]
  },
  {
   "cell_type": "code",
   "execution_count": null,
   "metadata": {},
   "outputs": [],
   "source": [
    "\n",
    "# ini untuk soal nomor 3 visualisasi plot distribusi (udah)\n",
    "# TODO:\n",
    "# Berikan uraian penjelasan kondisi setiap kolom berdasarkan kedua plot tersebut. \n",
    "# Jika numerik dapat dibuat dalam bentuk histogram dan box plot, dan jika string dengan histogram. \n",
    "\n",
    "import matplotlib.pyplot as plt\n",
    "\n",
    "# Plot histograms and box plots for numerical columns\n",
    "numerical_columns = ['Temperature', 'Humidity', 'Precipitation', 'Wind_Speed', 'Cloud_Coverage', 'Pressure', 'UV_Index', 'Air_Quality', 'Visibility']\n",
    "for column in numerical_columns:\n",
    "    fig, axes = plt.subplots(1, 2, figsize=(10, 4))\n",
    "    \n",
    "    # Histogram\n",
    "    axes[0].hist(data[column], bins=10)\n",
    "    axes[0].set_title(f'{column} Histogram')\n",
    "    axes[0].set_xlabel(column)\n",
    "    axes[0].set_ylabel('Frequency')\n",
    "    \n",
    "    # Box plot\n",
    "    axes[1].boxplot(data[column])\n",
    "    axes[1].set_title(f'{column} Box Plot')\n",
    "    axes[1].set_ylabel(column)\n",
    "    \n",
    "    plt.tight_layout()\n",
    "    plt.show()\n",
    "\n",
    "# Plot histograms for string columns\n",
    "string_columns = ['Weather_Type', 'Wind_Direction']\n",
    "for column in string_columns:\n",
    "    plt.hist(data[column])\n",
    "    plt.title(f'{column} Histogram')\n",
    "    plt.xlabel(column)\n",
    "    plt.ylabel('Frequency')\n",
    "    plt.xticks(rotation=45)\n",
    "    plt.tight_layout()\n",
    "    plt.show()"
   ]
  },
  {
   "cell_type": "code",
   "execution_count": null,
   "metadata": {},
   "outputs": [],
   "source": [
    "# Soal 4: Menentukan distribusi setiap kolom numerik menggunakan hasil visualisasi histogram. \n",
    "# Apakah kolom tersebut berdistribusi normal? \n",
    "# Jika bukan, terdistribusi seperti apa kolom tersebut?"
   ]
  },
  {
   "cell_type": "markdown",
   "metadata": {},
   "source": [
    "### 5. Hipotesis 1 sampel\n",
    "- Perusahaan menerima beberapa keluhan bahwa prediksi terkait nilai humidity di suatu daerah seringkali tidak tepat. Hal tersebut berakibat pada kurangnya persiapan masyarakat dalam melakukan penyesuaian kondisi termal tertentu. Dapatkah Anda mengecek apakah rata-rata nilai Humidity lebih dari 75?\n",
    "- Perusahaan mengeluarkan nilai rata-rata UV_index sebesar 3. Akan tetapi, mayoritas pelanggan mengeluhkan kulitnya terasa terbakar. Sebagai karyawan yang baik, periksalah apakah rata-rata UV_Index yang diamati memang tidak sama dengan 3 (sesuai laporan pelanggan)?\n",
    "\n",
    "- Pemerintah setempat menyarankan agar penduduk menghindari aktivitas di luar ruangan di 5 hari terakhir (asumsi: data terbaru berada pada urutan paling awal) karena nilai rata-rata pressure diprediksi berada di angka 950. Periksa apakah nilai rata-rata pressure ?\n",
    "\n",
    "- Apakah proporsi nilai Cloud_Coverage yang kurang dari 60 tidak sama dengan 35% dari total dataset, sesuai dengan himbauan yang diberikan oleh pemerintah setempat?\n"
   ]
  },
  {
   "cell_type": "code",
   "execution_count": null,
   "metadata": {},
   "outputs": [],
   "source": [
    "# Soal 5: Hipotesis 1 Sampel"
   ]
  },
  {
   "cell_type": "markdown",
   "metadata": {},
   "source": [
    "### 6. Hipotesis 2 sampel\n",
    "- Perusahaan ingin membandingkan kondisi cuaca di dua area geografis yang berbeda. Hal ini dapat dilakukan dengan membagi 1 dataset menjadi 2 bagian yang sama panjang. \n",
    "\n",
    "- Dapatkah Anda memeriksa apakah rata-rata Humidity di Area A sama dengan rata-rata Humidity di Area B?\n",
    "\n",
    "- Bandingkan rata-rata Wind Speed antara Area A dan Area B. Apakah rata-rata Wind Speed di Area A lebih tinggi daripada di Area B sebesar 5 mm?\n",
    "\n",
    "- Perusahaan ingin membandingkan kualitas udara (Air_Quality) antara Area A dan Area B. Dapatkah Anda memeriksa apakah variansi Air_Quality di Area A sama dengan di Area B?\n",
    "\n",
    "- Periksa apakah proporsi nilai precipitation yang kurang dari 7 pada daerah A lebih besar daripada kuantitas proporsi di daerah B dengan nilai yang sama?\n"
   ]
  },
  {
   "cell_type": "code",
   "execution_count": null,
   "metadata": {},
   "outputs": [],
   "source": [
    "# Soal 5: Hipotesis 1 Sampel"
   ]
  }
 ],
 "metadata": {
  "kernelspec": {
   "display_name": "Python 3",
   "language": "python",
   "name": "python3"
  },
  "language_info": {
   "codemirror_mode": {
    "name": "ipython",
    "version": 3
   },
   "file_extension": ".py",
   "mimetype": "text/x-python",
   "name": "python",
   "nbconvert_exporter": "python",
   "pygments_lexer": "ipython3",
   "version": "3.9.13"
  }
 },
 "nbformat": 4,
 "nbformat_minor": 2
}
